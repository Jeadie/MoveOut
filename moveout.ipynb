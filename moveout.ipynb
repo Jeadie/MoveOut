{
 "cells": [
  {
   "cell_type": "markdown",
   "metadata": {},
   "source": [
    "# MoveOut Model"
   ]
  },
  {
   "cell_type": "code",
   "execution_count": 22,
   "metadata": {
    "colab": {},
    "colab_type": "code",
    "id": "US5pjCNEjnmC"
   },
   "outputs": [],
   "source": [
    "import sklearn\n",
    "import numpy as np\n",
    "import pandas as pd\n",
    "from typing import List, Dict\n",
    "pd.set_option('display.max_columns', 50) # For development reasons\n"
   ]
  },
  {
   "cell_type": "markdown",
   "metadata": {},
   "source": [
    "## Preparing the Model"
   ]
  },
  {
   "cell_type": "code",
   "execution_count": 8,
   "metadata": {
    "colab": {},
    "colab_type": "code",
    "id": "Zb3lsYq-js5M"
   },
   "outputs": [],
   "source": [
    "d1 = pd.read_csv(\"final.csv\")\n",
    "d2 = pd.read_csv(\"final2.csv\")\n",
    "d = d1.append(d2)"
   ]
  },
  {
   "cell_type": "code",
   "execution_count": 14,
   "metadata": {
    "colab": {
     "base_uri": "https://localhost:8080/",
     "height": 1000
    },
    "colab_type": "code",
    "id": "C_I8ctEjlxBJ",
    "outputId": "53bf3e3f-5a81-4268-9bd3-3d916565ee61"
   },
   "outputs": [
    {
     "name": "stdout",
     "output_type": "stream",
     "text": [
      "41.4% of customers live with their parents.\n"
     ]
    }
   ],
   "source": [
    "# Mapping of column -> unique values of column (mainly for use in categorical data)\n",
    "domains = dict([(di, d[di].unique()) for di in list(d)])\n",
    "\n",
    "print(f\"{100*len(d[d['habitationStatus'] == 'With Parent'])/len(d)}% of customers live with their parents.\")\n"
   ]
  },
  {
   "cell_type": "code",
   "execution_count": 15,
   "metadata": {
    "colab": {},
    "colab_type": "code",
    "id": "qf44xIlimRD_"
   },
   "outputs": [
    {
     "name": "stdout",
     "output_type": "stream",
     "text": [
      "Etobicoke With Parent\n"
     ]
    }
   ],
   "source": [
    "spending_categories = ['Food and Dining',\n",
    "  'Entertainment',\n",
    "  'Transfer',\n",
    "  'Shopping',\n",
    "  'Bills and Utilities',\n",
    "  'Auto and Transport',\n",
    "  'Home',\n",
    "  'Taxes',\n",
    "  'Health and Fitness',\n",
    "  'Fees and Charges',\n",
    "  'Mortgage and Rent',\n",
    "  'Travel',\n",
    "  'spending'\n",
    "  ]\n",
    "municipality = domains[\"addresses/principalResidence/municipality\"]\n",
    "groupby_keys = [\"habitationStatus\", \"addresses/principalResidence/municipality\"]\n",
    "mean_categories = d.filter(items=spending_categories + groupby_keys).groupby(groupby_keys).agg([\"mean\"])[spending_categories].to_numpy()\n",
    "var_categories = d.filter(items=spending_categories + groupby_keys).groupby(groupby_keys).agg([\"var\"])[spending_categories].to_numpy()\n",
    "print(d.iloc[0][\"addresses/principalResidence/municipality\"], d.iloc[0][\"habitationStatus\"])"
   ]
  },
  {
   "cell_type": "markdown",
   "metadata": {},
   "source": [
    "## Serving Customer"
   ]
  },
  {
   "cell_type": "code",
   "execution_count": 16,
   "metadata": {},
   "outputs": [],
   "source": [
    "def get_customer_details(data: List) -> List:\n",
    "    \"\"\" Parses a Csv Line\"\"\"\n",
    "    return data[\n",
    "        list(d).index(\"habitationStatus\"),\n",
    "        list(d).index(\"addresses/principalResidence/municipality\"),\n",
    "        data[list(d).index(\"Food and Dining\"): list(d).index(\"spending\")]\n",
    "    ]"
   ]
  },
  {
   "cell_type": "code",
   "execution_count": 25,
   "metadata": {},
   "outputs": [],
   "source": [
    "# Mapper function f:  (habitation status, municipality) -> index\n",
    "\n",
    "def get_cluster_index(h: str, m: str) -> int:\n",
    "    \"\"\" Gets the index within the cluster matrix for a given habitation and municipality pair.\n",
    "\n",
    "    Args:\n",
    "      m: The municipality of the consumer.\n",
    "      h: The habitation status of the consumer.\n",
    "\n",
    "    Returns:\n",
    "      The index in the cluster matrix for the habitation and municipality pair if it is a valid pairing, else -1.\n",
    "\n",
    "    Raises:\n",
    "        ValueError: is raised when either the municipality of habitation status is not valid.\n",
    "    \"\"\"\n",
    "    municipalities=[\"East York\", \"Etobicoke\",  \"North York\", \"Scarborough\", \"Toronto\", \"York\"]\n",
    "    habitations=[\"Group\", \"With Parent\", \"With Spouse\"]\n",
    "    try:\n",
    "        return (len(municipalities) * habitations.index(h)) + municipalities.index(m)\n",
    "    except ValueError:\n",
    "        print(f\"Cluster of ({h}, {m}) is not in model.\")\n",
    "        raise"
   ]
  },
  {
   "cell_type": "code",
   "execution_count": 32,
   "metadata": {},
   "outputs": [],
   "source": [
    "# Changes customer categories \n",
    "\n",
    "def normalise_customer(customer_value: np.array, i: int) -> np.array:\n",
    "    mu, var = mean_categories[i, :], var_categories[i, :]\n",
    "    return ((customer_value - mu)/np.sqrt(var))\n",
    "\n",
    "def change_normalise_customer_category(normed_customer: np.array, new_i: int) -> np.array:\n",
    "    mu, var = mean_categories[new_i, :], var_categories[new_i, :]\n",
    "    return ((np.sqrt(var) * normed_customer) + mu)\n",
    "\n",
    "def get_failed_request():\n",
    "    return {\n",
    "        \"success\": False,\n",
    "        \"municipalities\": {}\n",
    "    }"
   ]
  },
  {
   "cell_type": "markdown",
   "metadata": {},
   "source": [
    "### API Call"
   ]
  },
  {
   "cell_type": "code",
   "execution_count": 23,
   "metadata": {},
   "outputs": [],
   "source": [
    "def process_customer(customer_request: Dict) -> Dict: \n",
    "    \"\"\" Process a single customer request. \n",
    "    \n",
    "    Args: \n",
    "        customer_request: The request message from the customer (Note: not as a JSON, rather decoded). Format ->\n",
    "            {\n",
    "                \"customer-id\": \"\",\n",
    "                \"customer-data\": \"\",\n",
    "                \"municipalities\": [\"\", \"\"],\n",
    "            }\n",
    "            where: \n",
    "                customer-id: is the customer id from TD da vinci API.\n",
    "                customer-data: A list of spending categories and metadata.\n",
    "                    Format: [\n",
    "                        'habitationStatus', 'addresses/principalResidence/municipality', Food and Dining',\n",
    "                        'Entertainment', 'Transfer', 'Shopping', 'Bills and Utilities', 'Auto and Transport',\n",
    "                        'Home', 'Taxes', 'Health and Fitness', 'Fees and Charges', 'Mortgage and Rent',\n",
    "                        'Travel', 'spending'\n",
    "                      ]\n",
    "    Returns: \n",
    "      A dictionary with the expected cost for each municipalities requested. Format -> \n",
    "          {\n",
    "              \"success\": bool,\n",
    "              \"municipalities\": {\n",
    "                  \"m1\": [],\n",
    "                  \"m2\": [],\n",
    "              }\n",
    "          \n",
    "          }\n",
    "          where: \n",
    "              success: True, if the model was able to process the client for all requested municipalities, false otherwise.\n",
    "              municipalities: A mapping of municipalities to costs. Each municipality value is the same format as the customer-data documented above.\n",
    "    \"\"\"\n",
    "    h, m = customer_request[\"customer-data\"][0:2]\n",
    "    \n",
    "    try:\n",
    "        index = get_cluster_index(h,m)\n",
    "        categories = [float(i) for i in customer_request[\"customer-data\"][2:]]\n",
    "        normalised = normalise_customer(np.array(categories), index)\n",
    "\n",
    "        municipalities = {}\n",
    "        for m in customer_request[\"municipalities\"]:\n",
    "            m_index = get_cluster_index(\"Group\", m)\n",
    "            municipalities[m] = change_normalise_customer_category(normalised, m_index)\n",
    "        return {\n",
    "            \"success\": True,\n",
    "            \"municipalities\": municipalities\n",
    "        }\n",
    "    except ValueError:\n",
    "        return get_failed_request()   "
   ]
  },
  {
   "cell_type": "markdown",
   "metadata": {},
   "source": [
    "### Test API"
   ]
  },
  {
   "cell_type": "code",
   "execution_count": 43,
   "metadata": {},
   "outputs": [
    {
     "name": "stdout",
     "output_type": "stream",
     "text": [
      "CUSTOMER: 1 ['With Parent', 'Etobicoke']\n",
      "[1.1516626410106037, 1.5942087808095, -1, 4.494026735214532, 3.721988566127133, -1, -1, -1, -1, -1, -1, -1, -1]\n",
      "\n"
     ]
    },
    {
     "name": "stderr",
     "output_type": "stream",
     "text": [
      "/home/jeadie/Github/MoveOut/.venv/lib/python3.6/site-packages/ipykernel_launcher.py:5: RuntimeWarning: invalid value encountered in true_divide\n",
      "  \"\"\"\n"
     ]
    }
   ],
   "source": [
    "import csv\n",
    "municipalities=[\"East York\", \"Etobicoke\",  \"North York\", \"Scarborough\", \"Toronto\", \"York\"]\n",
    "\n",
    "with open('final.csv', 'r') as csvfile:\n",
    "    r = csv.reader(csvfile, delimiter=',')\n",
    "    i = 0\n",
    "    for row in r:\n",
    "        if i:\n",
    "            print(f\"CUSTOMER: {i}\", row[3:5])\n",
    "            x = [float(y) for y in row[9:-1]]\n",
    "            result = process_customer({\n",
    "             \"customer-id\": \"\",\n",
    "                \"customer-data\": row[3:5] + row[9:-1],\n",
    "                \"municipalities\": municipalities,\n",
    "            })\n",
    "            print([yi/xi if xi!=0 else -1 for xi, yi in zip(x,result[\"municipalities\"][\"York\"])])\n",
    "            print()\n",
    "        i+=1\n",
    "        if i > 1:\n",
    "            break"
   ]
  },
  {
   "cell_type": "code",
   "execution_count": null,
   "metadata": {},
   "outputs": [],
   "source": []
  }
 ],
 "metadata": {
  "colab": {
   "name": "moveout.ipynb",
   "provenance": [],
   "version": "0.3.2"
  },
  "kernelspec": {
   "display_name": "Python 3",
   "language": "python",
   "name": "python3"
  },
  "language_info": {
   "codemirror_mode": {
    "name": "ipython",
    "version": 3
   },
   "file_extension": ".py",
   "mimetype": "text/x-python",
   "name": "python",
   "nbconvert_exporter": "python",
   "pygments_lexer": "ipython3",
   "version": "3.6.8"
  }
 },
 "nbformat": 4,
 "nbformat_minor": 1
}
